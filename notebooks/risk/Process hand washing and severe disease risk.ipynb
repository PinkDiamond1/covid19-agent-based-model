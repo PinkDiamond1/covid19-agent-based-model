{
 "cells": [
  {
   "cell_type": "code",
   "execution_count": 1,
   "metadata": {},
   "outputs": [],
   "source": [
    "import os\n",
    "import pandas as pd\n",
    "import numpy as np\n",
    "import geopandas as gpd\n",
    "\n",
    "from covid19_abm.dir_manager import get_data_dir"
   ]
  },
  {
   "cell_type": "code",
   "execution_count": 2,
   "metadata": {},
   "outputs": [
    {
     "output_type": "execute_result",
     "data": {
      "text/plain": "           NAME_2  mean_hw_risk_pop_weighted  mean_w_risk_pop_weighted  \\\nID_2                                                                     \n1        Bulawayo                   0.249271                  0.127705   \n2          Harare                   0.477576                  0.519639   \n3          Buhera                   0.479302                  0.761762   \n4     Chimanimani                   0.416260                  0.730825   \n5        Chipinge                   0.461102                  0.815844   \n\n      severe_covid_risk  severe_covid_risk_improved_1  \\\nID_2                                                    \n1              0.107427                      0.107148   \n2              0.113243                      0.108831   \n3              0.099653                      0.094780   \n4              0.103148                      0.098860   \n5              0.108000                      0.102574   \n\n      severe_covid_risk_improved_2  \nID_2                                \n1                         0.098113  \n2                         0.099422  \n3                         0.085186  \n4                         0.088979  \n5                         0.090331  ",
      "text/html": "<div>\n<style scoped>\n    .dataframe tbody tr th:only-of-type {\n        vertical-align: middle;\n    }\n\n    .dataframe tbody tr th {\n        vertical-align: top;\n    }\n\n    .dataframe thead th {\n        text-align: right;\n    }\n</style>\n<table border=\"1\" class=\"dataframe\">\n  <thead>\n    <tr style=\"text-align: right;\">\n      <th></th>\n      <th>NAME_2</th>\n      <th>mean_hw_risk_pop_weighted</th>\n      <th>mean_w_risk_pop_weighted</th>\n      <th>severe_covid_risk</th>\n      <th>severe_covid_risk_improved_1</th>\n      <th>severe_covid_risk_improved_2</th>\n    </tr>\n    <tr>\n      <th>ID_2</th>\n      <th></th>\n      <th></th>\n      <th></th>\n      <th></th>\n      <th></th>\n      <th></th>\n    </tr>\n  </thead>\n  <tbody>\n    <tr>\n      <th>1</th>\n      <td>Bulawayo</td>\n      <td>0.249271</td>\n      <td>0.127705</td>\n      <td>0.107427</td>\n      <td>0.107148</td>\n      <td>0.098113</td>\n    </tr>\n    <tr>\n      <th>2</th>\n      <td>Harare</td>\n      <td>0.477576</td>\n      <td>0.519639</td>\n      <td>0.113243</td>\n      <td>0.108831</td>\n      <td>0.099422</td>\n    </tr>\n    <tr>\n      <th>3</th>\n      <td>Buhera</td>\n      <td>0.479302</td>\n      <td>0.761762</td>\n      <td>0.099653</td>\n      <td>0.094780</td>\n      <td>0.085186</td>\n    </tr>\n    <tr>\n      <th>4</th>\n      <td>Chimanimani</td>\n      <td>0.416260</td>\n      <td>0.730825</td>\n      <td>0.103148</td>\n      <td>0.098860</td>\n      <td>0.088979</td>\n    </tr>\n    <tr>\n      <th>5</th>\n      <td>Chipinge</td>\n      <td>0.461102</td>\n      <td>0.815844</td>\n      <td>0.108000</td>\n      <td>0.102574</td>\n      <td>0.090331</td>\n    </tr>\n  </tbody>\n</table>\n</div>"
     },
     "metadata": {},
     "execution_count": 2
    }
   ],
   "source": [
    "new_district = gpd.read_file(\n",
    "    get_data_dir('raw', 'shapefiles', 'new_districts', 'ZWE_adm2.shp'))\n",
    "\n",
    "hw_risk = pd.read_csv(\n",
    "    get_data_dir('raw', 'risk', 'district_hw_w_risk.csv'))\n",
    "\n",
    "severe_disease_risk = pd.read_csv(\n",
    "    get_data_dir('raw', 'risk', 'severe_disease_risk_district.csv'))\n",
    "\n",
    "hw_risk = hw_risk.merge(new_district[['NAME_2', 'ID_2']], on='NAME_2').set_index('ID_2')\n",
    "severe_disease_risk = severe_disease_risk.merge(new_district[['NAME_2', 'ID_2']], on='NAME_2').set_index('ID_2')\n",
    "\n",
    "hw_cols = ['NAME_2', 'mean_hw_risk_pop_weighted', 'mean_w_risk_pop_weighted']\n",
    "severe_cols = ['severe_covid_risk', 'severe_covid_risk_improved_1', 'severe_covid_risk_improved_2']\n",
    "\n",
    "hw_severe_disease_risk = pd.concat([hw_risk[hw_cols], severe_disease_risk[severe_cols]], axis=1)\n",
    "\n",
    "hw_severe_disease_risk.head()"
   ]
  },
  {
   "cell_type": "code",
   "execution_count": 3,
   "metadata": {},
   "outputs": [],
   "source": [
    "hw_severe_disease_risk.to_csv(\n",
    "    get_data_dir('preprocessed', 'risk', 'hw_and_severe_disease_risk.csv'))"
   ]
  },
  {
   "cell_type": "code",
   "execution_count": null,
   "metadata": {},
   "outputs": [],
   "source": []
  }
 ],
 "metadata": {
  "kernelspec": {
   "display_name": "Python 3.8.3 64-bit ('covid19_abm': conda)",
   "language": "python",
   "name": "python38364bitcovid19abmcondad1626d2e133e49b0973f5fb29dbe53be"
  },
  "language_info": {
   "codemirror_mode": {
    "name": "ipython",
    "version": 3
   },
   "file_extension": ".py",
   "mimetype": "text/x-python",
   "name": "python",
   "nbconvert_exporter": "python",
   "pygments_lexer": "ipython3",
   "version": "3.8.3-final"
  }
 },
 "nbformat": 4,
 "nbformat_minor": 4
}