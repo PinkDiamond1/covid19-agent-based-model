{
 "cells": [
  {
   "cell_type": "code",
   "execution_count": 1,
   "metadata": {},
   "outputs": [],
   "source": [
    "%load_ext autotime"
   ]
  },
  {
   "cell_type": "code",
   "execution_count": 2,
   "metadata": {},
   "outputs": [
    {
     "name": "stdout",
     "output_type": "stream",
     "text": [
      "time: 2.58 s\n"
     ]
    }
   ],
   "source": [
    "import pandas as pd\n",
    "from sklearn.ensemble import GradientBoostingRegressor, RandomForestRegressor\n",
    "import numpy as np\n",
    "from collections import Counter\n",
    "\n",
    "from covid19_abm.dir_manager import get_data_dir"
   ]
  },
  {
   "cell_type": "code",
   "execution_count": 3,
   "metadata": {},
   "outputs": [
    {
     "name": "stdout",
     "output_type": "stream",
     "text": [
      "time: 2min 26s\n"
     ]
    }
   ],
   "source": [
    "age_map = {\n",
    "    'less than 1 year': 0,\n",
    "    'less than 1 year ': 0,\n",
    "    '1 year': 1,\n",
    "    '1 year ': 1,\n",
    "    '2 years': 2,\n",
    "    '2 years ': 2,\n",
    "    '98': 98,\n",
    "    '98 ': 98,\n",
    "    'not reported/missing': None,\n",
    "    'not reported/missing ': None,\n",
    "}\n",
    "\n",
    "econ_stat_map = {\n",
    "    'Not working, inactive, not': 'Not working, inactive, not in universe',\n",
    "    'Current Students': 'In School',\n",
    "}\n",
    "\n",
    "full_individual_df = pd.read_stata(\n",
    "    get_data_dir('raw', 'census', 'abm_individual_new_092220_final_merged_complete_FINAL.dta'))\n",
    "\n",
    "full_individual_df['age'] = full_individual_df['age'].map(lambda x: age_map.get(x, x))\n",
    "\n",
    "\n",
    "full_individual_df['economic_status'] = full_individual_df['economic_status'].astype(str)\n",
    "full_individual_df.loc[full_individual_df['teachers'] != 0, 'economic_status'] = 'Teachers'\n",
    "full_individual_df['economic_status'] = full_individual_df['economic_status'].str.strip().map(lambda x: econ_stat_map.get(x, x))"
   ]
  },
  {
   "cell_type": "code",
   "execution_count": 4,
   "metadata": {},
   "outputs": [
    {
     "data": {
      "text/plain": [
       "In School                                 4603312\n",
       "Not working, inactive, not in universe    3655252\n",
       "Agriculture Workers                       2407410\n",
       "Service Workers                           2235255\n",
       "Homemakers/Housework                      1323535\n",
       "Office workers                             342493\n",
       "Disabled and not working                   177445\n",
       "Teachers                                   143152\n",
       "Indusrtry Workers                          126592\n",
       "In the army                                 43378\n",
       "Name: economic_status, dtype: int64"
      ]
     },
     "execution_count": 4,
     "metadata": {},
     "output_type": "execute_result"
    },
    {
     "name": "stdout",
     "output_type": "stream",
     "text": [
      "time: 1.1 s\n"
     ]
    }
   ],
   "source": [
    "full_individual_df['economic_status'].value_counts()"
   ]
  },
  {
   "cell_type": "code",
   "execution_count": 5,
   "metadata": {},
   "outputs": [
    {
     "data": {
      "text/html": [
       "<div>\n",
       "<style scoped>\n",
       "    .dataframe tbody tr th:only-of-type {\n",
       "        vertical-align: middle;\n",
       "    }\n",
       "\n",
       "    .dataframe tbody tr th {\n",
       "        vertical-align: top;\n",
       "    }\n",
       "\n",
       "    .dataframe thead th {\n",
       "        text-align: right;\n",
       "    }\n",
       "</style>\n",
       "<table border=\"1\" class=\"dataframe\">\n",
       "  <thead>\n",
       "    <tr style=\"text-align: right;\">\n",
       "      <th></th>\n",
       "      <th>serial</th>\n",
       "      <th>persons</th>\n",
       "      <th>strata</th>\n",
       "      <th>gq</th>\n",
       "      <th>urban</th>\n",
       "      <th>hhtype</th>\n",
       "      <th>nfams</th>\n",
       "      <th>pernum</th>\n",
       "      <th>famunit</th>\n",
       "      <th>famsize</th>\n",
       "      <th>...</th>\n",
       "      <th>mean_econ_stat_9</th>\n",
       "      <th>Name</th>\n",
       "      <th>SchoolLevel</th>\n",
       "      <th>Grant_Class</th>\n",
       "      <th>Ed_dist</th>\n",
       "      <th>Type</th>\n",
       "      <th>HotseatingIndicator</th>\n",
       "      <th>hotseating_session</th>\n",
       "      <th>phase</th>\n",
       "      <th>boardingschool</th>\n",
       "    </tr>\n",
       "  </thead>\n",
       "  <tbody>\n",
       "    <tr>\n",
       "      <th>0</th>\n",
       "      <td>155315000</td>\n",
       "      <td>4</td>\n",
       "      <td>2614</td>\n",
       "      <td>households</td>\n",
       "      <td>urban</td>\n",
       "      <td>married/cohab couple with children</td>\n",
       "      <td>1 family</td>\n",
       "      <td>3</td>\n",
       "      <td>1</td>\n",
       "      <td>4</td>\n",
       "      <td>...</td>\n",
       "      <td>0.0063</td>\n",
       "      <td>ADMIRAL TAIT</td>\n",
       "      <td>Primary</td>\n",
       "      <td>P1</td>\n",
       "      <td>Harare</td>\n",
       "      <td>Government</td>\n",
       "      <td>1.0</td>\n",
       "      <td>Morning</td>\n",
       "      <td>5.0</td>\n",
       "      <td>Not Boarding School</td>\n",
       "    </tr>\n",
       "  </tbody>\n",
       "</table>\n",
       "<p>1 rows × 59 columns</p>\n",
       "</div>"
      ],
      "text/plain": [
       "      serial  persons  strata          gq  urban  \\\n",
       "0  155315000        4    2614  households  urban   \n",
       "\n",
       "                               hhtype     nfams  pernum  famunit famsize  ...  \\\n",
       "0  married/cohab couple with children  1 family       3        1       4  ...   \n",
       "\n",
       "  mean_econ_stat_9          Name SchoolLevel Grant_Class Ed_dist        Type  \\\n",
       "0           0.0063  ADMIRAL TAIT     Primary          P1  Harare  Government   \n",
       "\n",
       "  HotseatingIndicator hotseating_session phase       boardingschool  \n",
       "0                 1.0            Morning   5.0  Not Boarding School  \n",
       "\n",
       "[1 rows x 59 columns]"
      ]
     },
     "execution_count": 5,
     "metadata": {},
     "output_type": "execute_result"
    },
    {
     "name": "stdout",
     "output_type": "stream",
     "text": [
      "time: 28.2 ms\n"
     ]
    }
   ],
   "source": [
    "full_individual_df.head(1)"
   ]
  },
  {
   "cell_type": "code",
   "execution_count": 6,
   "metadata": {},
   "outputs": [
    {
     "data": {
      "text/plain": [
       "Not working, inactive, not in universe    3655252\n",
       "In School                                 4603312\n",
       "Homemakers/Housework                      1323535\n",
       "Office workers                             342493\n",
       "Teachers                                   143152\n",
       "Service Workers                           2235255\n",
       "Agriculture Workers                       2407410\n",
       "Indusrtry Workers                          126592\n",
       "In the army                                 43378\n",
       "Disabled and not working                   177445\n",
       "Name: economic_status, dtype: int64"
      ]
     },
     "execution_count": 6,
     "metadata": {},
     "output_type": "execute_result"
    },
    {
     "name": "stdout",
     "output_type": "stream",
     "text": [
      "time: 1.11 s\n"
     ]
    }
   ],
   "source": [
    "l = '''Not working, inactive, not in universe\n",
    "In School\n",
    "Homemakers/Housework\n",
    "Office workers\n",
    "Teachers\n",
    "Service Workers\n",
    "Agriculture Workers\n",
    "Indusrtry Workers\n",
    "In the army\n",
    "Disabled and not working'''\n",
    "l = l.split('\\n')\n",
    "full_individual_df['economic_status'].value_counts()[l]"
   ]
  },
  {
   "cell_type": "code",
   "execution_count": 7,
   "metadata": {},
   "outputs": [
    {
     "data": {
      "text/plain": [
       "0.0    10319939\n",
       "1.0     4737885\n",
       "Name: school_goers, dtype: int64"
      ]
     },
     "execution_count": 7,
     "metadata": {},
     "output_type": "execute_result"
    },
    {
     "name": "stdout",
     "output_type": "stream",
     "text": [
      "time: 138 ms\n"
     ]
    }
   ],
   "source": [
    "full_individual_df[\"school_goers\"].value_counts()"
   ]
  },
  {
   "cell_type": "code",
   "execution_count": 8,
   "metadata": {},
   "outputs": [
    {
     "data": {
      "text/plain": [
       "(134573, 134573, 143152)"
      ]
     },
     "execution_count": 8,
     "metadata": {},
     "output_type": "execute_result"
    },
    {
     "name": "stdout",
     "output_type": "stream",
     "text": [
      "time: 108 ms\n"
     ]
    }
   ],
   "source": [
    "(\n",
    "    ((full_individual_df[\"teachers\"] > 0) & (full_individual_df[\"school_goers\"] > 0)).sum(),\n",
    "    ((full_individual_df[\"teachers\"] > 0) & (full_individual_df[\"school_goers\"] > 0) & (full_individual_df[\"Schoolnumber\"].notnull())).sum(),\n",
    "    (full_individual_df[\"teachers\"] > 0).sum()\n",
    ")"
   ]
  },
  {
   "cell_type": "markdown",
   "metadata": {},
   "source": [
    "# Fill unknown age"
   ]
  },
  {
   "cell_type": "code",
   "execution_count": 9,
   "metadata": {},
   "outputs": [
    {
     "name": "stdout",
     "output_type": "stream",
     "text": [
      "time: 4.32 s\n"
     ]
    }
   ],
   "source": [
    "individual_df = full_individual_df\n",
    "\n",
    "age_cols = [\n",
    "    'new_district_id',\n",
    "    'urban', 'persons', 'sex', 'marst', 'citizen', 'race', 'disabled', 'economic_status']\n",
    "X = pd.get_dummies(individual_df[age_cols], drop_first=True)\n",
    "\n",
    "X_train = X[individual_df['age'].notnull()]"
   ]
  },
  {
   "cell_type": "code",
   "execution_count": 10,
   "metadata": {},
   "outputs": [
    {
     "name": "stdout",
     "output_type": "stream",
     "text": [
      "time: 53.7 s\n"
     ]
    }
   ],
   "source": [
    "gb = GradientBoostingRegressor(n_estimators=100, max_depth=3, random_state=1029)\n",
    "# rf = RandomForestRegressor(n_estimators=100, max_depth=3, random_state=1029, n_jobs=50)\n",
    "\n",
    "frac = 0.05\n",
    "X_tr = X_train.sample(frac=frac, random_state=1029)\n",
    "gb.fit(X_tr, individual_df.loc[X_tr.index, 'age'])\n",
    "\n",
    "missing_age = X[individual_df['age'].isnull()]"
   ]
  },
  {
   "cell_type": "code",
   "execution_count": 11,
   "metadata": {},
   "outputs": [
    {
     "data": {
      "text/plain": [
       "<AxesSubplot:>"
      ]
     },
     "execution_count": 11,
     "metadata": {},
     "output_type": "execute_result"
    },
    {
     "data": {
      "image/png": "[encoded data removed]",
      "text/plain": [
       "<Figure size 432x288 with 1 Axes>"
      ]
     },
     "metadata": {
      "needs_background": "light"
     },
     "output_type": "display_data"
    },
    {
     "name": "stdout",
     "output_type": "stream",
     "text": [
      "time: 508 ms\n"
     ]
    }
   ],
   "source": [
    "pd.Series(gb.predict(missing_age)).hist()"
   ]
  },
  {
   "cell_type": "code",
   "execution_count": 12,
   "metadata": {},
   "outputs": [
    {
     "data": {
      "text/plain": [
       "(751267, 26)"
      ]
     },
     "execution_count": 12,
     "metadata": {},
     "output_type": "execute_result"
    },
    {
     "name": "stdout",
     "output_type": "stream",
     "text": [
      "time: 1.56 ms\n"
     ]
    }
   ],
   "source": [
    "X_tr.shape"
   ]
  },
  {
   "cell_type": "code",
   "execution_count": 13,
   "metadata": {},
   "outputs": [
    {
     "data": {
      "text/html": [
       "<div>\n",
       "<style scoped>\n",
       "    .dataframe tbody tr th:only-of-type {\n",
       "        vertical-align: middle;\n",
       "    }\n",
       "\n",
       "    .dataframe tbody tr th {\n",
       "        vertical-align: top;\n",
       "    }\n",
       "\n",
       "    .dataframe thead th {\n",
       "        text-align: right;\n",
       "    }\n",
       "</style>\n",
       "<table border=\"1\" class=\"dataframe\">\n",
       "  <thead>\n",
       "    <tr style=\"text-align: right;\">\n",
       "      <th></th>\n",
       "      <th>serial</th>\n",
       "      <th>persons</th>\n",
       "      <th>strata</th>\n",
       "      <th>gq</th>\n",
       "      <th>urban</th>\n",
       "      <th>hhtype</th>\n",
       "      <th>nfams</th>\n",
       "      <th>pernum</th>\n",
       "      <th>famunit</th>\n",
       "      <th>famsize</th>\n",
       "      <th>...</th>\n",
       "      <th>mean_econ_stat_9</th>\n",
       "      <th>Name</th>\n",
       "      <th>SchoolLevel</th>\n",
       "      <th>Grant_Class</th>\n",
       "      <th>Ed_dist</th>\n",
       "      <th>Type</th>\n",
       "      <th>HotseatingIndicator</th>\n",
       "      <th>hotseating_session</th>\n",
       "      <th>phase</th>\n",
       "      <th>boardingschool</th>\n",
       "    </tr>\n",
       "  </thead>\n",
       "  <tbody>\n",
       "    <tr>\n",
       "      <th>1161</th>\n",
       "      <td>160605000</td>\n",
       "      <td>8</td>\n",
       "      <td>2412</td>\n",
       "      <td>other group quarters</td>\n",
       "      <td>urban</td>\n",
       "      <td>group quarters</td>\n",
       "      <td>8 families</td>\n",
       "      <td>7</td>\n",
       "      <td>7</td>\n",
       "      <td>1 family member present</td>\n",
       "      <td>...</td>\n",
       "      <td>0.0063</td>\n",
       "      <td>ADMIRAL TAIT</td>\n",
       "      <td>Primary</td>\n",
       "      <td>P1</td>\n",
       "      <td>Harare</td>\n",
       "      <td>Government</td>\n",
       "      <td>1.0</td>\n",
       "      <td>Evening</td>\n",
       "      <td>2.0</td>\n",
       "      <td>Not Boarding School</td>\n",
       "    </tr>\n",
       "  </tbody>\n",
       "</table>\n",
       "<p>1 rows × 59 columns</p>\n",
       "</div>"
      ],
      "text/plain": [
       "         serial  persons  strata                    gq  urban          hhtype  \\\n",
       "1161  160605000        8    2412  other group quarters  urban  group quarters   \n",
       "\n",
       "           nfams  pernum  famunit                  famsize  ...  \\\n",
       "1161  8 families       7        7  1 family member present  ...   \n",
       "\n",
       "     mean_econ_stat_9          Name SchoolLevel Grant_Class Ed_dist  \\\n",
       "1161           0.0063  ADMIRAL TAIT     Primary          P1  Harare   \n",
       "\n",
       "            Type HotseatingIndicator hotseating_session phase  \\\n",
       "1161  Government                 1.0            Evening   2.0   \n",
       "\n",
       "           boardingschool  \n",
       "1161  Not Boarding School  \n",
       "\n",
       "[1 rows x 59 columns]"
      ]
     },
     "execution_count": 13,
     "metadata": {},
     "output_type": "execute_result"
    },
    {
     "name": "stdout",
     "output_type": "stream",
     "text": [
      "time: 412 ms\n"
     ]
    }
   ],
   "source": [
    "individual_df.loc[missing_age.index, 'age'] = gb.predict(missing_age).astype(int)\n",
    "individual_df.loc[missing_age.index].head(1)"
   ]
  },
  {
   "cell_type": "code",
   "execution_count": 14,
   "metadata": {},
   "outputs": [
    {
     "data": {
      "text/plain": [
       "In School                                 4603312\n",
       "Not working, inactive, not in universe    3655252\n",
       "Agriculture Workers                       2407410\n",
       "Service Workers                           2235255\n",
       "Homemakers/Housework                      1323535\n",
       "Office workers                             342493\n",
       "Disabled and not working                   177445\n",
       "Teachers                                   143152\n",
       "Indusrtry Workers                          126592\n",
       "In the army                                 43378\n",
       "Name: economic_status, dtype: int64"
      ]
     },
     "execution_count": 14,
     "metadata": {},
     "output_type": "execute_result"
    },
    {
     "name": "stdout",
     "output_type": "stream",
     "text": [
      "time: 3.22 s\n"
     ]
    }
   ],
   "source": [
    "individual_df.economic_status.astype(str).value_counts()"
   ]
  },
  {
   "cell_type": "markdown",
   "metadata": {},
   "source": [
    "## Create `district_id`, `household_id` and `economic_activity_location_id`"
   ]
  },
  {
   "cell_type": "code",
   "execution_count": 15,
   "metadata": {},
   "outputs": [
    {
     "name": "stdout",
     "output_type": "stream",
     "text": [
      "time: 427 µs\n"
     ]
    }
   ],
   "source": [
    "relevant_cols = [\n",
    "    'person_id', 'age', 'sex',\n",
    "    'household_id', 'district_id',\n",
    "    'economic_status', 'economic_activity_location_id',\n",
    "    'school_id',\n",
    "    'hotseating_session',\n",
    "    'phase',\n",
    "    'boardingschool'\n",
    "    # 'household', 'district'\n",
    "]"
   ]
  },
  {
   "cell_type": "code",
   "execution_count": 16,
   "metadata": {},
   "outputs": [
    {
     "data": {
      "text/plain": [
       "1219.0     6798\n",
       "1274.0     4521\n",
       "1037.0     4489\n",
       "1208.0     4252\n",
       "1182.0     4061\n",
       "           ... \n",
       "1968.0        7\n",
       "22009.0       7\n",
       "3279.0        5\n",
       "18611.0       4\n",
       "17147.0       4\n",
       "Name: Schoolnumber, Length: 9612, dtype: int64"
      ]
     },
     "execution_count": 16,
     "metadata": {},
     "output_type": "execute_result"
    },
    {
     "name": "stdout",
     "output_type": "stream",
     "text": [
      "time: 68.5 ms\n"
     ]
    }
   ],
   "source": [
    "individual_df['Schoolnumber'].value_counts()"
   ]
  },
  {
   "cell_type": "code",
   "execution_count": 17,
   "metadata": {},
   "outputs": [
    {
     "name": "stdout",
     "output_type": "stream",
     "text": [
      "time: 14.4 ms\n"
     ]
    }
   ],
   "source": [
    "old_new_districts = pd.read_csv(\n",
    "    get_data_dir('raw', 'district_relation.csv'), index_col=0)\n",
    "old_new_districts.index = old_new_districts['ADMIN_NAME'].str.lower()"
   ]
  },
  {
   "cell_type": "code",
   "execution_count": 18,
   "metadata": {},
   "outputs": [
    {
     "name": "stdout",
     "output_type": "stream",
     "text": [
      "time: 287 ms\n"
     ]
    }
   ],
   "source": [
    "individual_df['serial_expanded'] = individual_df['serial_cycle']"
   ]
  },
  {
   "cell_type": "code",
   "execution_count": 19,
   "metadata": {},
   "outputs": [
    {
     "data": {
      "text/plain": [
       "2     2442485\n",
       "1      753227\n",
       "7      524975\n",
       "27     414437\n",
       "55     379017\n",
       "Name: new_district_id, dtype: int64"
      ]
     },
     "execution_count": 19,
     "metadata": {},
     "output_type": "execute_result"
    },
    {
     "name": "stdout",
     "output_type": "stream",
     "text": [
      "time: 105 ms\n"
     ]
    }
   ],
   "source": [
    "individual_df['new_district_id'].value_counts().head()"
   ]
  },
  {
   "cell_type": "code",
   "execution_count": 20,
   "metadata": {},
   "outputs": [
    {
     "name": "stdout",
     "output_type": "stream",
     "text": [
      "time: 6.88 s\n"
     ]
    }
   ],
   "source": [
    "individual_df['household_id'] = individual_df['serial_expanded'].map(lambda x: f'h_{x}')\n",
    "individual_df['new_district_id'] = individual_df['new_district_id'].map(lambda x: f'd_{x}')"
   ]
  },
  {
   "cell_type": "code",
   "execution_count": 21,
   "metadata": {},
   "outputs": [
    {
     "data": {
      "text/html": [
       "<div>\n",
       "<style scoped>\n",
       "    .dataframe tbody tr th:only-of-type {\n",
       "        vertical-align: middle;\n",
       "    }\n",
       "\n",
       "    .dataframe tbody tr th {\n",
       "        vertical-align: top;\n",
       "    }\n",
       "\n",
       "    .dataframe thead th {\n",
       "        text-align: right;\n",
       "    }\n",
       "</style>\n",
       "<table border=\"1\" class=\"dataframe\">\n",
       "  <thead>\n",
       "    <tr style=\"text-align: right;\">\n",
       "      <th></th>\n",
       "      <th>serial</th>\n",
       "      <th>persons</th>\n",
       "      <th>strata</th>\n",
       "      <th>gq</th>\n",
       "      <th>urban</th>\n",
       "      <th>hhtype</th>\n",
       "      <th>nfams</th>\n",
       "      <th>pernum</th>\n",
       "      <th>famunit</th>\n",
       "      <th>famsize</th>\n",
       "      <th>...</th>\n",
       "      <th>SchoolLevel</th>\n",
       "      <th>Grant_Class</th>\n",
       "      <th>Ed_dist</th>\n",
       "      <th>Type</th>\n",
       "      <th>HotseatingIndicator</th>\n",
       "      <th>hotseating_session</th>\n",
       "      <th>phase</th>\n",
       "      <th>boardingschool</th>\n",
       "      <th>serial_expanded</th>\n",
       "      <th>household_id</th>\n",
       "    </tr>\n",
       "  </thead>\n",
       "  <tbody>\n",
       "    <tr>\n",
       "      <th>0</th>\n",
       "      <td>155315000</td>\n",
       "      <td>4</td>\n",
       "      <td>2614</td>\n",
       "      <td>households</td>\n",
       "      <td>urban</td>\n",
       "      <td>married/cohab couple with children</td>\n",
       "      <td>1 family</td>\n",
       "      <td>3</td>\n",
       "      <td>1</td>\n",
       "      <td>4</td>\n",
       "      <td>...</td>\n",
       "      <td>Primary</td>\n",
       "      <td>P1</td>\n",
       "      <td>Harare</td>\n",
       "      <td>Government</td>\n",
       "      <td>1.0</td>\n",
       "      <td>Morning</td>\n",
       "      <td>5.0</td>\n",
       "      <td>Not Boarding School</td>\n",
       "      <td>15531500004</td>\n",
       "      <td>h_15531500004</td>\n",
       "    </tr>\n",
       "  </tbody>\n",
       "</table>\n",
       "<p>1 rows × 61 columns</p>\n",
       "</div>"
      ],
      "text/plain": [
       "      serial  persons  strata          gq  urban  \\\n",
       "0  155315000        4    2614  households  urban   \n",
       "\n",
       "                               hhtype     nfams  pernum  famunit famsize  ...  \\\n",
       "0  married/cohab couple with children  1 family       3        1       4  ...   \n",
       "\n",
       "  SchoolLevel Grant_Class Ed_dist        Type HotseatingIndicator  \\\n",
       "0     Primary          P1  Harare  Government                 1.0   \n",
       "\n",
       "  hotseating_session phase       boardingschool serial_expanded   household_id  \n",
       "0            Morning   5.0  Not Boarding School     15531500004  h_15531500004  \n",
       "\n",
       "[1 rows x 61 columns]"
      ]
     },
     "execution_count": 21,
     "metadata": {},
     "output_type": "execute_result"
    },
    {
     "name": "stdout",
     "output_type": "stream",
     "text": [
      "time: 2.92 s\n"
     ]
    }
   ],
   "source": [
    "expanded_individual_df = individual_df.copy()\n",
    "expanded_individual_df.head(1)"
   ]
  },
  {
   "cell_type": "code",
   "execution_count": 22,
   "metadata": {},
   "outputs": [
    {
     "data": {
      "text/plain": [
       "0.0        3129600\n",
       "Evening     804644\n",
       "Morning     803641\n",
       "Name: hotseating_session, dtype: int64"
      ]
     },
     "execution_count": 22,
     "metadata": {},
     "output_type": "execute_result"
    },
    {
     "name": "stdout",
     "output_type": "stream",
     "text": [
      "time: 36.6 ms\n"
     ]
    }
   ],
   "source": [
    "individual_df['hotseating_session'].value_counts()"
   ]
  },
  {
   "cell_type": "code",
   "execution_count": 23,
   "metadata": {},
   "outputs": [
    {
     "name": "stdout",
     "output_type": "stream",
     "text": [
      "time: 397 ms\n"
     ]
    }
   ],
   "source": [
    "expanded_individual_df['school_goers'] = 1 * (expanded_individual_df['school_goers'] != 0)"
   ]
  },
  {
   "cell_type": "code",
   "execution_count": 24,
   "metadata": {},
   "outputs": [
    {
     "data": {
      "text/plain": [
       "(4.073266636802549, 4.073266636802549)"
      ]
     },
     "execution_count": 24,
     "metadata": {},
     "output_type": "execute_result"
    },
    {
     "name": "stdout",
     "output_type": "stream",
     "text": [
      "time: 13.9 s\n"
     ]
    }
   ],
   "source": [
    "(expanded_individual_df.groupby('serial_expanded')['sex'].count().mean(), \n",
    "expanded_individual_df.shape[0] / expanded_individual_df['serial_expanded'].nunique())"
   ]
  },
  {
   "cell_type": "code",
   "execution_count": 25,
   "metadata": {},
   "outputs": [
    {
     "data": {
      "text/plain": [
       "4737885"
      ]
     },
     "execution_count": 25,
     "metadata": {},
     "output_type": "execute_result"
    },
    {
     "name": "stdout",
     "output_type": "stream",
     "text": [
      "time: 31 ms\n"
     ]
    }
   ],
   "source": [
    "(expanded_individual_df['school_goers'] == 1).sum()"
   ]
  },
  {
   "cell_type": "markdown",
   "metadata": {},
   "source": [
    "# Data consolidation"
   ]
  },
  {
   "cell_type": "code",
   "execution_count": 26,
   "metadata": {},
   "outputs": [
    {
     "name": "stdout",
     "output_type": "stream",
     "text": [
      "time: 413 µs\n"
     ]
    }
   ],
   "source": [
    "relevant_cols = [\n",
    "    'person_id', 'age', 'sex',\n",
    "    'household_id', 'district_id',\n",
    "    'economic_status', 'economic_activity_location_id',\n",
    "    # 'school_id_district', \n",
    "    'school_goers',\n",
    "    'manufacturing_workers',\n",
    "    'school_id',\n",
    "    'hotseating_session', \n",
    "    'phase',\n",
    "    'boardingschool'\n",
    "    # 'mining_district_id'\n",
    "    # 'household', 'district'\n",
    "]"
   ]
  },
  {
   "cell_type": "code",
   "execution_count": 28,
   "metadata": {},
   "outputs": [
    {
     "name": "stdout",
     "output_type": "stream",
     "text": [
      "time: 33.7 s\n"
     ]
    }
   ],
   "source": [
    "consolidated_df = expanded_individual_df.copy()\n",
    "\n",
    "p = consolidated_df['economic_status']\n",
    "\n",
    "consolidated_df.loc[p == 'Disabled and not working', 'economic_activity_location_id'] = consolidated_df.loc[p == 'Disabled and not working', 'household_id']\n",
    "consolidated_df.loc[p != 'Disabled and not working', 'economic_activity_location_id'] = consolidated_df.loc[p != 'Disabled and not working', 'new_district_id']\n",
    "\n",
    "try:\n",
    "    consolidated_df.drop('person_id', axis=1, inplace=True)\n",
    "except KeyError:\n",
    "    pass\n",
    "\n",
    "consolidated_df['person_id'] = consolidated_df.index\n",
    "consolidated_df['age'] = consolidated_df['age'].astype(int)\n",
    "consolidated_df['economic_status'] = consolidated_df['economic_status'].str.strip()\n",
    "\n",
    "consolidated_df['school_id'] = consolidated_df['Schoolnumber'].fillna(-1).astype(int).map(lambda x: f's_{x}')  # if x != -1 else '')\n",
    "consolidated_df['district_id'] = consolidated_df['new_district_id']"
   ]
  },
  {
   "cell_type": "code",
   "execution_count": 29,
   "metadata": {},
   "outputs": [
    {
     "name": "stdout",
     "output_type": "stream",
     "text": [
      "time: 33.4 s\n"
     ]
    }
   ],
   "source": [
    "consolidated_df[relevant_cols].to_pickle(\n",
    "    get_data_dir('preprocessed', 'census', 'zimbabwe_expanded_census_consolidated_100pct.pickle'))"
   ]
  },
  {
   "cell_type": "code",
   "execution_count": null,
   "metadata": {},
   "outputs": [],
   "source": []
  },
  {
   "cell_type": "code",
   "execution_count": null,
   "metadata": {},
   "outputs": [],
   "source": []
  },
  {
   "cell_type": "code",
   "execution_count": null,
   "metadata": {},
   "outputs": [],
   "source": []
  },
  {
   "cell_type": "code",
   "execution_count": null,
   "metadata": {},
   "outputs": [],
   "source": []
  },
  {
   "cell_type": "code",
   "execution_count": null,
   "metadata": {},
   "outputs": [],
   "source": []
  },
  {
   "cell_type": "code",
   "execution_count": 39,
   "metadata": {},
   "outputs": [
    {
     "data": {
      "text/html": [
       "<div>\n",
       "<style scoped>\n",
       "    .dataframe tbody tr th:only-of-type {\n",
       "        vertical-align: middle;\n",
       "    }\n",
       "\n",
       "    .dataframe tbody tr th {\n",
       "        vertical-align: top;\n",
       "    }\n",
       "\n",
       "    .dataframe thead th {\n",
       "        text-align: right;\n",
       "    }\n",
       "</style>\n",
       "<table border=\"1\" class=\"dataframe\">\n",
       "  <thead>\n",
       "    <tr style=\"text-align: right;\">\n",
       "      <th></th>\n",
       "      <th>person_id</th>\n",
       "      <th>age</th>\n",
       "      <th>sex</th>\n",
       "      <th>household_id</th>\n",
       "      <th>district_id</th>\n",
       "      <th>district_id</th>\n",
       "      <th>economic_status</th>\n",
       "      <th>economic_activity_location_id</th>\n",
       "      <th>school_goers</th>\n",
       "      <th>manufacturing_workers</th>\n",
       "      <th>school_id</th>\n",
       "      <th>hotseating_session</th>\n",
       "      <th>phase</th>\n",
       "      <th>boardingschool</th>\n",
       "    </tr>\n",
       "  </thead>\n",
       "  <tbody>\n",
       "    <tr>\n",
       "      <th>0</th>\n",
       "      <td>0</td>\n",
       "      <td>4</td>\n",
       "      <td>male</td>\n",
       "      <td>h_15531500004</td>\n",
       "      <td>9022.0</td>\n",
       "      <td>d_2</td>\n",
       "      <td>Current Students</td>\n",
       "      <td>d_2</td>\n",
       "      <td>1</td>\n",
       "      <td>0.0</td>\n",
       "      <td>1001.0</td>\n",
       "      <td>Morning</td>\n",
       "      <td>5.0</td>\n",
       "      <td>Not Boarding School</td>\n",
       "    </tr>\n",
       "    <tr>\n",
       "      <th>1</th>\n",
       "      <td>1</td>\n",
       "      <td>6</td>\n",
       "      <td>female</td>\n",
       "      <td>h_15475300023</td>\n",
       "      <td>9022.0</td>\n",
       "      <td>d_2</td>\n",
       "      <td>Current Students</td>\n",
       "      <td>d_2</td>\n",
       "      <td>1</td>\n",
       "      <td>0.0</td>\n",
       "      <td>1001.0</td>\n",
       "      <td>Evening</td>\n",
       "      <td>4.0</td>\n",
       "      <td>Not Boarding School</td>\n",
       "    </tr>\n",
       "    <tr>\n",
       "      <th>2</th>\n",
       "      <td>2</td>\n",
       "      <td>5</td>\n",
       "      <td>male</td>\n",
       "      <td>h_15315800012</td>\n",
       "      <td>9022.0</td>\n",
       "      <td>d_2</td>\n",
       "      <td>Current Students</td>\n",
       "      <td>d_2</td>\n",
       "      <td>1</td>\n",
       "      <td>0.0</td>\n",
       "      <td>1001.0</td>\n",
       "      <td>Evening</td>\n",
       "      <td>5.0</td>\n",
       "      <td>Not Boarding School</td>\n",
       "    </tr>\n",
       "    <tr>\n",
       "      <th>3</th>\n",
       "      <td>3</td>\n",
       "      <td>6</td>\n",
       "      <td>male</td>\n",
       "      <td>h_14499300008</td>\n",
       "      <td>9021.0</td>\n",
       "      <td>d_2</td>\n",
       "      <td>Current Students</td>\n",
       "      <td>d_2</td>\n",
       "      <td>1</td>\n",
       "      <td>0.0</td>\n",
       "      <td>1001.0</td>\n",
       "      <td>Morning</td>\n",
       "      <td>4.0</td>\n",
       "      <td>Not Boarding School</td>\n",
       "    </tr>\n",
       "    <tr>\n",
       "      <th>4</th>\n",
       "      <td>4</td>\n",
       "      <td>6</td>\n",
       "      <td>male</td>\n",
       "      <td>h_14030400010</td>\n",
       "      <td>9021.0</td>\n",
       "      <td>d_2</td>\n",
       "      <td>Current Students</td>\n",
       "      <td>d_2</td>\n",
       "      <td>1</td>\n",
       "      <td>0.0</td>\n",
       "      <td>1001.0</td>\n",
       "      <td>Morning</td>\n",
       "      <td>4.0</td>\n",
       "      <td>Not Boarding School</td>\n",
       "    </tr>\n",
       "  </tbody>\n",
       "</table>\n",
       "</div>"
      ],
      "text/plain": [
       "   person_id  age     sex   household_id district_id district_id  \\\n",
       "0          0    4    male  h_15531500004      9022.0         d_2   \n",
       "1          1    6  female  h_15475300023      9022.0         d_2   \n",
       "2          2    5    male  h_15315800012      9022.0         d_2   \n",
       "3          3    6    male  h_14499300008      9021.0         d_2   \n",
       "4          4    6    male  h_14030400010      9021.0         d_2   \n",
       "\n",
       "    economic_status economic_activity_location_id  school_goers  \\\n",
       "0  Current Students                           d_2             1   \n",
       "1  Current Students                           d_2             1   \n",
       "2  Current Students                           d_2             1   \n",
       "3  Current Students                           d_2             1   \n",
       "4  Current Students                           d_2             1   \n",
       "\n",
       "   manufacturing_workers  school_id hotseating_session  phase  \\\n",
       "0                    0.0     1001.0            Morning    5.0   \n",
       "1                    0.0     1001.0            Evening    4.0   \n",
       "2                    0.0     1001.0            Evening    5.0   \n",
       "3                    0.0     1001.0            Morning    4.0   \n",
       "4                    0.0     1001.0            Morning    4.0   \n",
       "\n",
       "        boardingschool  \n",
       "0  Not Boarding School  \n",
       "1  Not Boarding School  \n",
       "2  Not Boarding School  \n",
       "3  Not Boarding School  \n",
       "4  Not Boarding School  "
      ]
     },
     "execution_count": 39,
     "metadata": {},
     "output_type": "execute_result"
    },
    {
     "name": "stdout",
     "output_type": "stream",
     "text": [
      "time: 1.6 s\n"
     ]
    }
   ],
   "source": [
    "consolidated_df[relevant_cols].head()"
   ]
  },
  {
   "cell_type": "code",
   "execution_count": 52,
   "metadata": {},
   "outputs": [
    {
     "data": {
      "text/html": [
       "<div>\n",
       "<style scoped>\n",
       "    .dataframe tbody tr th:only-of-type {\n",
       "        vertical-align: middle;\n",
       "    }\n",
       "\n",
       "    .dataframe tbody tr th {\n",
       "        vertical-align: top;\n",
       "    }\n",
       "\n",
       "    .dataframe thead th {\n",
       "        text-align: right;\n",
       "    }\n",
       "</style>\n",
       "<table border=\"1\" class=\"dataframe\">\n",
       "  <thead>\n",
       "    <tr style=\"text-align: right;\">\n",
       "      <th></th>\n",
       "      <th>person_id</th>\n",
       "      <th>age</th>\n",
       "      <th>sex</th>\n",
       "      <th>household_id</th>\n",
       "      <th>district_id</th>\n",
       "      <th>district_id</th>\n",
       "      <th>economic_status</th>\n",
       "      <th>economic_activity_location_id</th>\n",
       "      <th>school_goers</th>\n",
       "      <th>manufacturing_workers</th>\n",
       "      <th>school_id</th>\n",
       "      <th>hotseating_session</th>\n",
       "      <th>phase</th>\n",
       "      <th>boardingschool</th>\n",
       "    </tr>\n",
       "  </thead>\n",
       "  <tbody>\n",
       "    <tr>\n",
       "      <th>11</th>\n",
       "      <td>11</td>\n",
       "      <td>12</td>\n",
       "      <td>male</td>\n",
       "      <td>h_13441800016</td>\n",
       "      <td>9021.0</td>\n",
       "      <td>d_2</td>\n",
       "      <td>Current Students</td>\n",
       "      <td>d_2</td>\n",
       "      <td>1</td>\n",
       "      <td>0.0</td>\n",
       "      <td>1001.0</td>\n",
       "      <td>Morning</td>\n",
       "      <td>1.0</td>\n",
       "      <td>Not Boarding School</td>\n",
       "    </tr>\n",
       "    <tr>\n",
       "      <th>14</th>\n",
       "      <td>14</td>\n",
       "      <td>12</td>\n",
       "      <td>female</td>\n",
       "      <td>h_15526500017</td>\n",
       "      <td>9022.0</td>\n",
       "      <td>d_2</td>\n",
       "      <td>Current Students</td>\n",
       "      <td>d_2</td>\n",
       "      <td>1</td>\n",
       "      <td>0.0</td>\n",
       "      <td>1001.0</td>\n",
       "      <td>Morning</td>\n",
       "      <td>1.0</td>\n",
       "      <td>Not Boarding School</td>\n",
       "    </tr>\n",
       "    <tr>\n",
       "      <th>20</th>\n",
       "      <td>20</td>\n",
       "      <td>12</td>\n",
       "      <td>female</td>\n",
       "      <td>h_15008500001</td>\n",
       "      <td>9021.0</td>\n",
       "      <td>d_2</td>\n",
       "      <td>Current Students</td>\n",
       "      <td>d_2</td>\n",
       "      <td>1</td>\n",
       "      <td>0.0</td>\n",
       "      <td>1001.0</td>\n",
       "      <td>Morning</td>\n",
       "      <td>1.0</td>\n",
       "      <td>Not Boarding School</td>\n",
       "    </tr>\n",
       "    <tr>\n",
       "      <th>21</th>\n",
       "      <td>21</td>\n",
       "      <td>13</td>\n",
       "      <td>male</td>\n",
       "      <td>h_13935000003</td>\n",
       "      <td>9021.0</td>\n",
       "      <td>d_2</td>\n",
       "      <td>Current Students</td>\n",
       "      <td>d_2</td>\n",
       "      <td>1</td>\n",
       "      <td>0.0</td>\n",
       "      <td>1001.0</td>\n",
       "      <td>Morning</td>\n",
       "      <td>1.0</td>\n",
       "      <td>Not Boarding School</td>\n",
       "    </tr>\n",
       "    <tr>\n",
       "      <th>32</th>\n",
       "      <td>32</td>\n",
       "      <td>14</td>\n",
       "      <td>male</td>\n",
       "      <td>h_13422100019</td>\n",
       "      <td>9021.0</td>\n",
       "      <td>d_2</td>\n",
       "      <td>Current Students</td>\n",
       "      <td>d_2</td>\n",
       "      <td>1</td>\n",
       "      <td>0.0</td>\n",
       "      <td>1001.0</td>\n",
       "      <td>Morning</td>\n",
       "      <td>1.0</td>\n",
       "      <td>Not Boarding School</td>\n",
       "    </tr>\n",
       "  </tbody>\n",
       "</table>\n",
       "</div>"
      ],
      "text/plain": [
       "    person_id  age     sex   household_id district_id district_id  \\\n",
       "11         11   12    male  h_13441800016      9021.0         d_2   \n",
       "14         14   12  female  h_15526500017      9022.0         d_2   \n",
       "20         20   12  female  h_15008500001      9021.0         d_2   \n",
       "21         21   13    male  h_13935000003      9021.0         d_2   \n",
       "32         32   14    male  h_13422100019      9021.0         d_2   \n",
       "\n",
       "     economic_status economic_activity_location_id  school_goers  \\\n",
       "11  Current Students                           d_2             1   \n",
       "14  Current Students                           d_2             1   \n",
       "20  Current Students                           d_2             1   \n",
       "21  Current Students                           d_2             1   \n",
       "32  Current Students                           d_2             1   \n",
       "\n",
       "    manufacturing_workers  school_id hotseating_session  phase  \\\n",
       "11                    0.0     1001.0            Morning    1.0   \n",
       "14                    0.0     1001.0            Morning    1.0   \n",
       "20                    0.0     1001.0            Morning    1.0   \n",
       "21                    0.0     1001.0            Morning    1.0   \n",
       "32                    0.0     1001.0            Morning    1.0   \n",
       "\n",
       "         boardingschool  \n",
       "11  Not Boarding School  \n",
       "14  Not Boarding School  \n",
       "20  Not Boarding School  \n",
       "21  Not Boarding School  \n",
       "32  Not Boarding School  "
      ]
     },
     "execution_count": 52,
     "metadata": {},
     "output_type": "execute_result"
    },
    {
     "name": "stdout",
     "output_type": "stream",
     "text": [
      "time: 3.51 s\n"
     ]
    }
   ],
   "source": [
    "consolidated_df[relevant_cols][consolidated_df[relevant_cols][\"phase\"] == 1].head()"
   ]
  },
  {
   "cell_type": "code",
   "execution_count": 66,
   "metadata": {},
   "outputs": [
    {
     "data": {
      "text/plain": [
       "0           s_1001\n",
       "1           s_1001\n",
       "2           s_1001\n",
       "3           s_1001\n",
       "4           s_1001\n",
       "            ...   \n",
       "4737880    s_32211\n",
       "4737881    s_32211\n",
       "4737882    s_32211\n",
       "4737883    s_32211\n",
       "4737884    s_32211\n",
       "Name: school_id, Length: 4737885, dtype: object"
      ]
     },
     "execution_count": 66,
     "metadata": {},
     "output_type": "execute_result"
    },
    {
     "name": "stdout",
     "output_type": "stream",
     "text": [
      "time: 3.19 s\n"
     ]
    }
   ],
   "source": [
    "consolidated_df[consolidated_df['school_id'] != '']['school_id']"
   ]
  },
  {
   "cell_type": "code",
   "execution_count": 68,
   "metadata": {},
   "outputs": [
    {
     "data": {
      "text/plain": [
       "array(['s_1001', 's_1002', 's_1003', ..., 's_22223', 's_22224', 's_32211'],\n",
       "      dtype=object)"
      ]
     },
     "execution_count": 68,
     "metadata": {},
     "output_type": "execute_result"
    },
    {
     "name": "stdout",
     "output_type": "stream",
     "text": [
      "time: 1.34 s\n"
     ]
    }
   ],
   "source": [
    "consolidated_df.loc[consolidated_df['school_id'] != '', 'school_id'].unique()"
   ]
  },
  {
   "cell_type": "code",
   "execution_count": 33,
   "metadata": {},
   "outputs": [
    {
     "data": {
      "text/html": [
       "<div>\n",
       "<style scoped>\n",
       "    .dataframe tbody tr th:only-of-type {\n",
       "        vertical-align: middle;\n",
       "    }\n",
       "\n",
       "    .dataframe tbody tr th {\n",
       "        vertical-align: top;\n",
       "    }\n",
       "\n",
       "    .dataframe thead th {\n",
       "        text-align: right;\n",
       "    }\n",
       "</style>\n",
       "<table border=\"1\" class=\"dataframe\">\n",
       "  <thead>\n",
       "    <tr style=\"text-align: right;\">\n",
       "      <th></th>\n",
       "      <th>person_id</th>\n",
       "      <th>age</th>\n",
       "      <th>sex</th>\n",
       "      <th>household_id</th>\n",
       "      <th>district_id</th>\n",
       "      <th>economic_status</th>\n",
       "      <th>economic_activity_location_id</th>\n",
       "      <th>school_goers</th>\n",
       "      <th>manufacturing_workers</th>\n",
       "    </tr>\n",
       "  </thead>\n",
       "  <tbody>\n",
       "    <tr>\n",
       "      <td>0</td>\n",
       "      <td>0</td>\n",
       "      <td>19</td>\n",
       "      <td>female</td>\n",
       "      <td>h_67786</td>\n",
       "      <td>w_1</td>\n",
       "      <td>Service Workers</td>\n",
       "      <td>w_1</td>\n",
       "      <td>0</td>\n",
       "      <td>0.0</td>\n",
       "    </tr>\n",
       "    <tr>\n",
       "      <td>1</td>\n",
       "      <td>1</td>\n",
       "      <td>49</td>\n",
       "      <td>male</td>\n",
       "      <td>h_64925</td>\n",
       "      <td>w_1</td>\n",
       "      <td>Service Workers</td>\n",
       "      <td>w_1</td>\n",
       "      <td>0</td>\n",
       "      <td>0.0</td>\n",
       "    </tr>\n",
       "    <tr>\n",
       "      <td>2</td>\n",
       "      <td>2</td>\n",
       "      <td>26</td>\n",
       "      <td>female</td>\n",
       "      <td>h_3648785</td>\n",
       "      <td>w_1</td>\n",
       "      <td>Office workers</td>\n",
       "      <td>w_1</td>\n",
       "      <td>1</td>\n",
       "      <td>0.0</td>\n",
       "    </tr>\n",
       "    <tr>\n",
       "      <td>3</td>\n",
       "      <td>3</td>\n",
       "      <td>54</td>\n",
       "      <td>female</td>\n",
       "      <td>h_127965</td>\n",
       "      <td>w_1</td>\n",
       "      <td>Homemakers/Housework</td>\n",
       "      <td>w_1</td>\n",
       "      <td>0</td>\n",
       "      <td>0.0</td>\n",
       "    </tr>\n",
       "    <tr>\n",
       "      <td>4</td>\n",
       "      <td>4</td>\n",
       "      <td>65</td>\n",
       "      <td>female</td>\n",
       "      <td>h_103824</td>\n",
       "      <td>w_1</td>\n",
       "      <td>Not working, inactive, not in universe</td>\n",
       "      <td>w_1</td>\n",
       "      <td>0</td>\n",
       "      <td>0.0</td>\n",
       "    </tr>\n",
       "  </tbody>\n",
       "</table>\n",
       "</div>"
      ],
      "text/plain": [
       "   person_id  age     sex household_id district_id  \\\n",
       "0          0   19  female      h_67786     w_1   \n",
       "1          1   49    male      h_64925     w_1   \n",
       "2          2   26  female    h_3648785     w_1   \n",
       "3          3   54  female     h_127965     w_1   \n",
       "4          4   65  female     h_103824     w_1   \n",
       "\n",
       "                          economic_status economic_activity_location_id  \\\n",
       "0                         Service Workers                           w_1   \n",
       "1                         Service Workers                           w_1   \n",
       "2                          Office workers                           w_1   \n",
       "3                    Homemakers/Housework                           w_1   \n",
       "4  Not working, inactive, not in universe                           w_1   \n",
       "\n",
       "   school_goers  manufacturing_workers  \n",
       "0             0                    0.0  \n",
       "1             0                    0.0  \n",
       "2             1                    0.0  \n",
       "3             0                    0.0  \n",
       "4             0                    0.0  "
      ]
     },
     "execution_count": 33,
     "metadata": {},
     "output_type": "execute_result"
    },
    {
     "name": "stdout",
     "output_type": "stream",
     "text": [
      "time: 790 ms\n"
     ]
    }
   ],
   "source": [
    "consolidated_df[relevant_cols].head()"
   ]
  },
  {
   "cell_type": "code",
   "execution_count": 48,
   "metadata": {},
   "outputs": [
    {
     "data": {
      "text/plain": [
       "count    1.505782e+07\n",
       "mean     2.136117e-01\n",
       "std      4.098558e-01\n",
       "min      0.000000e+00\n",
       "25%      0.000000e+00\n",
       "50%      0.000000e+00\n",
       "75%      0.000000e+00\n",
       "max      1.000000e+00\n",
       "Name: mining_districts, dtype: float64"
      ]
     },
     "execution_count": 48,
     "metadata": {},
     "output_type": "execute_result"
    },
    {
     "name": "stdout",
     "output_type": "stream",
     "text": [
      "time: 650 ms\n"
     ]
    }
   ],
   "source": [
    "individual_df['mining_districts'].describe()"
   ]
  },
  {
   "cell_type": "code",
   "execution_count": 47,
   "metadata": {},
   "outputs": [
    {
     "name": "stdout",
     "output_type": "stream",
     "text": [
      "Index(['manufacturing_workers'], dtype='object')\n",
      "Index(['mining_workers', 'mining_districts'], dtype='object')\n",
      "time: 1.55 ms\n"
     ]
    }
   ],
   "source": [
    "print(individual_df.columns[individual_df.columns.str.contains('manufacturing')])\n",
    "print(individual_df.columns[individual_df.columns.str.contains('mining')])"
   ]
  },
  {
   "cell_type": "markdown",
   "metadata": {},
   "source": [
    "# Contingent on available data"
   ]
  },
  {
   "cell_type": "code",
   "execution_count": 19,
   "metadata": {},
   "outputs": [
    {
     "name": "stdout",
     "output_type": "stream",
     "text": [
      "time: 1.1 s\n"
     ]
    }
   ],
   "source": [
    "# consolidated_df['serial_expanded'] = consolidated_df['serial'].map(lambda x: f'{x}_01')\n",
    "# consolidated_df['household_id'] = consolidated_df['serial_expanded'].map(lambda x: f'h_{x}')\n",
    "consolidated_df.loc[consolidated_df['mining_district_id'] != '', 'mining_district_id'] = consolidated_df.loc[consolidated_df['mining_district_id'] != '', 'mining_district_id'].map(lambda x: f'mining_{x}')\n",
    "consolidated_df.loc[consolidated_df['school_id_district'] != '', 'school_id_district'] = consolidated_df.loc[consolidated_df['school_id_district'] != '', 'school_id_district'].map(lambda x: f'school_{x}')"
   ]
  },
  {
   "cell_type": "code",
   "execution_count": 28,
   "metadata": {},
   "outputs": [
    {
     "data": {
      "text/html": [
       "<div>\n",
       "<style scoped>\n",
       "    .dataframe tbody tr th:only-of-type {\n",
       "        vertical-align: middle;\n",
       "    }\n",
       "\n",
       "    .dataframe tbody tr th {\n",
       "        vertical-align: top;\n",
       "    }\n",
       "\n",
       "    .dataframe thead th {\n",
       "        text-align: right;\n",
       "    }\n",
       "</style>\n",
       "<table border=\"1\" class=\"dataframe\">\n",
       "  <thead>\n",
       "    <tr style=\"text-align: right;\">\n",
       "      <th></th>\n",
       "      <th>serial</th>\n",
       "      <th>persons</th>\n",
       "      <th>district_id</th>\n",
       "      <th>new_district_id</th>\n",
       "      <th>age</th>\n",
       "      <th>sex</th>\n",
       "      <th>teachers</th>\n",
       "      <th>nfams</th>\n",
       "      <th>isco88a</th>\n",
       "      <th>famunit</th>\n",
       "      <th>...</th>\n",
       "      <th>dhs_ipumsi_zw</th>\n",
       "      <th>province_id_shpfile</th>\n",
       "      <th>province_name_shpfile</th>\n",
       "      <th>district_name_shpfile</th>\n",
       "      <th>serial_expanded</th>\n",
       "      <th>household_id</th>\n",
       "      <th>old_district_id</th>\n",
       "      <th>district_id</th>\n",
       "      <th>economic_activity_location_id</th>\n",
       "      <th>person_id</th>\n",
       "    </tr>\n",
       "  </thead>\n",
       "  <tbody>\n",
       "    <tr>\n",
       "      <td>0</td>\n",
       "      <td>147171</td>\n",
       "      <td>8</td>\n",
       "      <td>21</td>\n",
       "      <td>1</td>\n",
       "      <td>34</td>\n",
       "      <td>female</td>\n",
       "      <td>0</td>\n",
       "      <td>1 family</td>\n",
       "      <td>niu (not in universe)</td>\n",
       "      <td>1</td>\n",
       "      <td>...</td>\n",
       "      <td>bulawayo</td>\n",
       "      <td>1</td>\n",
       "      <td>Bulawayo</td>\n",
       "      <td>Bulawayo</td>\n",
       "      <td>147171</td>\n",
       "      <td>h_147171</td>\n",
       "      <td>w_21</td>\n",
       "      <td>w_1</td>\n",
       "      <td>w_1</td>\n",
       "      <td>0</td>\n",
       "    </tr>\n",
       "    <tr>\n",
       "      <td>1</td>\n",
       "      <td>21490</td>\n",
       "      <td>2</td>\n",
       "      <td>21</td>\n",
       "      <td>1</td>\n",
       "      <td>36</td>\n",
       "      <td>female</td>\n",
       "      <td>0</td>\n",
       "      <td>1 family</td>\n",
       "      <td>niu (not in universe)</td>\n",
       "      <td>1</td>\n",
       "      <td>...</td>\n",
       "      <td>bulawayo</td>\n",
       "      <td>1</td>\n",
       "      <td>Bulawayo</td>\n",
       "      <td>Bulawayo</td>\n",
       "      <td>21490</td>\n",
       "      <td>h_21490</td>\n",
       "      <td>w_21</td>\n",
       "      <td>w_1</td>\n",
       "      <td>w_1</td>\n",
       "      <td>1</td>\n",
       "    </tr>\n",
       "    <tr>\n",
       "      <td>2</td>\n",
       "      <td>59596</td>\n",
       "      <td>3</td>\n",
       "      <td>21</td>\n",
       "      <td>1</td>\n",
       "      <td>25</td>\n",
       "      <td>female</td>\n",
       "      <td>0</td>\n",
       "      <td>1 family</td>\n",
       "      <td>cashiers, tellers and related clerks</td>\n",
       "      <td>1</td>\n",
       "      <td>...</td>\n",
       "      <td>bulawayo</td>\n",
       "      <td>1</td>\n",
       "      <td>Bulawayo</td>\n",
       "      <td>Bulawayo</td>\n",
       "      <td>59596</td>\n",
       "      <td>h_59596</td>\n",
       "      <td>w_21</td>\n",
       "      <td>w_1</td>\n",
       "      <td>w_1</td>\n",
       "      <td>2</td>\n",
       "    </tr>\n",
       "    <tr>\n",
       "      <td>3</td>\n",
       "      <td>148162</td>\n",
       "      <td>8</td>\n",
       "      <td>21</td>\n",
       "      <td>1</td>\n",
       "      <td>33</td>\n",
       "      <td>male</td>\n",
       "      <td>0</td>\n",
       "      <td>1 family</td>\n",
       "      <td>miners, shotfirers, stone cutters and carvers</td>\n",
       "      <td>1</td>\n",
       "      <td>...</td>\n",
       "      <td>bulawayo</td>\n",
       "      <td>1</td>\n",
       "      <td>Bulawayo</td>\n",
       "      <td>Bulawayo</td>\n",
       "      <td>148162</td>\n",
       "      <td>h_148162</td>\n",
       "      <td>w_21</td>\n",
       "      <td>w_1</td>\n",
       "      <td>w_1</td>\n",
       "      <td>3</td>\n",
       "    </tr>\n",
       "    <tr>\n",
       "      <td>4</td>\n",
       "      <td>149155</td>\n",
       "      <td>8</td>\n",
       "      <td>21</td>\n",
       "      <td>1</td>\n",
       "      <td>18</td>\n",
       "      <td>female</td>\n",
       "      <td>0</td>\n",
       "      <td>1 family</td>\n",
       "      <td>niu (not in universe)</td>\n",
       "      <td>1</td>\n",
       "      <td>...</td>\n",
       "      <td>bulawayo</td>\n",
       "      <td>1</td>\n",
       "      <td>Bulawayo</td>\n",
       "      <td>Bulawayo</td>\n",
       "      <td>149155</td>\n",
       "      <td>h_149155</td>\n",
       "      <td>w_21</td>\n",
       "      <td>w_1</td>\n",
       "      <td>w_1</td>\n",
       "      <td>4</td>\n",
       "    </tr>\n",
       "  </tbody>\n",
       "</table>\n",
       "<p>5 rows × 64 columns</p>\n",
       "</div>"
      ],
      "text/plain": [
       "   serial  persons district_id  new_district_id  age     sex teachers  \\\n",
       "0  147171        8          21                1   34  female        0   \n",
       "1   21490        2          21                1   36  female        0   \n",
       "2   59596        3          21                1   25  female        0   \n",
       "3  148162        8          21                1   33    male        0   \n",
       "4  149155        8          21                1   18  female        0   \n",
       "\n",
       "      nfams                                        isco88a  famunit  ...  \\\n",
       "0  1 family                          niu (not in universe)        1  ...   \n",
       "1  1 family                          niu (not in universe)        1  ...   \n",
       "2  1 family           cashiers, tellers and related clerks        1  ...   \n",
       "3  1 family  miners, shotfirers, stone cutters and carvers        1  ...   \n",
       "4  1 family                          niu (not in universe)        1  ...   \n",
       "\n",
       "  dhs_ipumsi_zw province_id_shpfile province_name_shpfile  \\\n",
       "0      bulawayo                   1              Bulawayo   \n",
       "1      bulawayo                   1              Bulawayo   \n",
       "2      bulawayo                   1              Bulawayo   \n",
       "3      bulawayo                   1              Bulawayo   \n",
       "4      bulawayo                   1              Bulawayo   \n",
       "\n",
       "  district_name_shpfile serial_expanded household_id old_district_id district_id  \\\n",
       "0              Bulawayo          147171     h_147171        w_21     w_1   \n",
       "1              Bulawayo           21490      h_21490        w_21     w_1   \n",
       "2              Bulawayo           59596      h_59596        w_21     w_1   \n",
       "3              Bulawayo          148162     h_148162        w_21     w_1   \n",
       "4              Bulawayo          149155     h_149155        w_21     w_1   \n",
       "\n",
       "  economic_activity_location_id person_id  \n",
       "0                           w_1         0  \n",
       "1                           w_1         1  \n",
       "2                           w_1         2  \n",
       "3                           w_1         3  \n",
       "4                           w_1         4  \n",
       "\n",
       "[5 rows x 64 columns]"
      ]
     },
     "execution_count": 28,
     "metadata": {},
     "output_type": "execute_result"
    },
    {
     "name": "stdout",
     "output_type": "stream",
     "text": [
      "time: 21.7 ms\n"
     ]
    }
   ],
   "source": [
    "consolidated_df.head()"
   ]
  },
  {
   "cell_type": "code",
   "execution_count": 21,
   "metadata": {},
   "outputs": [
    {
     "name": "stdout",
     "output_type": "stream",
     "text": [
      "time: 877 ms\n"
     ]
    }
   ],
   "source": [
    "p = consolidated_df['economic_status']\n",
    "\n",
    "consolidated_df.loc[p == 'Disabled and not working', 'economic_activity_location_id'] = consolidated_df.loc[p == 'Disabled and not working', 'household_id']\n",
    "consolidated_df.loc[p != 'Disabled and not working', 'economic_activity_location_id'] = consolidated_df.loc[p != 'Disabled and not working', 'new_district_id']"
   ]
  },
  {
   "cell_type": "code",
   "execution_count": 22,
   "metadata": {},
   "outputs": [
    {
     "name": "stdout",
     "output_type": "stream",
     "text": [
      "time: 1.21 s\n"
     ]
    }
   ],
   "source": [
    "try:\n",
    "    consolidated_df.drop('person_id', axis=1, inplace=True)\n",
    "except KeyError:\n",
    "    pass\n",
    "\n",
    "consolidated_df['person_id'] = consolidated_df.index\n",
    "consolidated_df['age'] = consolidated_df['age'].astype(int)\n",
    "consolidated_df['economic_status'] = consolidated_df['economic_status'].str.strip()\n",
    "consolidated_df.rename(columns={'new_district_id': 'district_id'}, inplace=True)"
   ]
  },
  {
   "cell_type": "code",
   "execution_count": 23,
   "metadata": {},
   "outputs": [
    {
     "name": "stdout",
     "output_type": "stream",
     "text": [
      "time: 870 µs\n"
     ]
    }
   ],
   "source": []
  },
  {
   "cell_type": "code",
   "execution_count": null,
   "metadata": {},
   "outputs": [],
   "source": []
  },
  {
   "cell_type": "code",
   "execution_count": 24,
   "metadata": {},
   "outputs": [
    {
     "name": "stdout",
     "output_type": "stream",
     "text": [
      "time: 932 ms\n"
     ]
    }
   ],
   "source": [
    "consolidated_df[relevant_cols][\n",
    "    consolidated_df.serial_expanded.str.endswith('_01')\n",
    "].to_pickle('../../data/zimbabwe_ipums_mining_manufacturing_school_new_dist_5pct.pickle')"
   ]
  },
  {
   "cell_type": "code",
   "execution_count": 25,
   "metadata": {},
   "outputs": [
    {
     "name": "stdout",
     "output_type": "stream",
     "text": [
      "time: 1.73 s\n"
     ]
    }
   ],
   "source": [
    "consolidated_df[relevant_cols][\n",
    "    consolidated_df.serial_expanded.str.endswith('_01') | consolidated_df.serial_expanded.str.endswith('_02')\n",
    "].to_pickle('../../data/zimbabwe_ipums_mining_manufacturing_school_new_dist_10pct.pickle')"
   ]
  },
  {
   "cell_type": "code",
   "execution_count": 26,
   "metadata": {},
   "outputs": [
    {
     "data": {
      "text/plain": [
       "(1309376, 69)"
      ]
     },
     "execution_count": 26,
     "metadata": {},
     "output_type": "execute_result"
    },
    {
     "name": "stdout",
     "output_type": "stream",
     "text": [
      "time: 2.32 ms\n"
     ]
    }
   ],
   "source": [
    "consolidated_df.shape"
   ]
  },
  {
   "cell_type": "code",
   "execution_count": 2,
   "metadata": {},
   "outputs": [],
   "source": [
    "import pandas as pd"
   ]
  },
  {
   "cell_type": "code",
   "execution_count": 3,
   "metadata": {},
   "outputs": [],
   "source": [
    "consolidated_df = pd.read_pickle('../../data/zimbabwe_ipums_mining_manufacturing_school_new_dist_10pct.pickle')"
   ]
  },
  {
   "cell_type": "code",
   "execution_count": 9,
   "metadata": {},
   "outputs": [
    {
     "data": {
      "text/plain": [
       "1              1\n",
       "2              2\n",
       "3              3\n",
       "10            10\n",
       "20            20\n",
       "           ...  \n",
       "654638    654638\n",
       "654646    654646\n",
       "654647    654647\n",
       "654656    654656\n",
       "654682    654682\n",
       "Name: person_id, Length: 126990, dtype: int64"
      ]
     },
     "execution_count": 9,
     "metadata": {},
     "output_type": "execute_result"
    }
   ],
   "source": [
    "consolidated_df[consolidated_df['school_id_district'] != '']['person_id']"
   ]
  },
  {
   "cell_type": "code",
   "execution_count": null,
   "metadata": {},
   "outputs": [],
   "source": []
  },
  {
   "cell_type": "markdown",
   "metadata": {},
   "source": [
    "# Expand to 10%"
   ]
  },
  {
   "cell_type": "code",
   "execution_count": 23,
   "metadata": {},
   "outputs": [
    {
     "data": {
      "text/html": [
       "<div>\n",
       "<style scoped>\n",
       "    .dataframe tbody tr th:only-of-type {\n",
       "        vertical-align: middle;\n",
       "    }\n",
       "\n",
       "    .dataframe tbody tr th {\n",
       "        vertical-align: top;\n",
       "    }\n",
       "\n",
       "    .dataframe thead th {\n",
       "        text-align: right;\n",
       "    }\n",
       "</style>\n",
       "<table border=\"1\" class=\"dataframe\">\n",
       "  <thead>\n",
       "    <tr style=\"text-align: right;\">\n",
       "      <th></th>\n",
       "      <th>serial</th>\n",
       "      <th>persons</th>\n",
       "      <th>hhwt</th>\n",
       "      <th>subsamp</th>\n",
       "      <th>strata</th>\n",
       "      <th>gq</th>\n",
       "      <th>urban</th>\n",
       "      <th>geolev1</th>\n",
       "      <th>Province</th>\n",
       "      <th>Province_str</th>\n",
       "      <th>...</th>\n",
       "      <th>manufacturing_workers</th>\n",
       "      <th>mining_workers</th>\n",
       "      <th>mining_districts</th>\n",
       "      <th>mining_district_id</th>\n",
       "      <th>serial_expanded</th>\n",
       "      <th>household_id</th>\n",
       "      <th>old_district_id</th>\n",
       "      <th>district_id</th>\n",
       "      <th>economic_activity_location_id</th>\n",
       "      <th>person_id</th>\n",
       "    </tr>\n",
       "  </thead>\n",
       "  <tbody>\n",
       "    <tr>\n",
       "      <th>0</th>\n",
       "      <td>4908000</td>\n",
       "      <td>4</td>\n",
       "      <td>20</td>\n",
       "      <td>10th 1% subsample</td>\n",
       "      <td>12552</td>\n",
       "      <td>households</td>\n",
       "      <td>urban</td>\n",
       "      <td>716000</td>\n",
       "      <td>0</td>\n",
       "      <td>bulawayo</td>\n",
       "      <td>...</td>\n",
       "      <td>NaN</td>\n",
       "      <td>NaN</td>\n",
       "      <td>NaN</td>\n",
       "      <td></td>\n",
       "      <td>4908000_01</td>\n",
       "      <td>h_4908000_01</td>\n",
       "      <td>w_21</td>\n",
       "      <td>w_1</td>\n",
       "      <td>w_1</td>\n",
       "      <td>0</td>\n",
       "    </tr>\n",
       "    <tr>\n",
       "      <th>1</th>\n",
       "      <td>944000</td>\n",
       "      <td>5</td>\n",
       "      <td>20</td>\n",
       "      <td>44th 1% subsample</td>\n",
       "      <td>893</td>\n",
       "      <td>households</td>\n",
       "      <td>urban</td>\n",
       "      <td>716000</td>\n",
       "      <td>0</td>\n",
       "      <td>bulawayo</td>\n",
       "      <td>...</td>\n",
       "      <td>NaN</td>\n",
       "      <td>NaN</td>\n",
       "      <td>NaN</td>\n",
       "      <td></td>\n",
       "      <td>944000_01</td>\n",
       "      <td>h_944000_01</td>\n",
       "      <td>w_21</td>\n",
       "      <td>w_1</td>\n",
       "      <td>w_1</td>\n",
       "      <td>1</td>\n",
       "    </tr>\n",
       "    <tr>\n",
       "      <th>2</th>\n",
       "      <td>5669000</td>\n",
       "      <td>4</td>\n",
       "      <td>20</td>\n",
       "      <td>9th 1% subsample</td>\n",
       "      <td>6838</td>\n",
       "      <td>households</td>\n",
       "      <td>urban</td>\n",
       "      <td>716000</td>\n",
       "      <td>0</td>\n",
       "      <td>bulawayo</td>\n",
       "      <td>...</td>\n",
       "      <td>NaN</td>\n",
       "      <td>NaN</td>\n",
       "      <td>NaN</td>\n",
       "      <td></td>\n",
       "      <td>5669000_01</td>\n",
       "      <td>h_5669000_01</td>\n",
       "      <td>w_21</td>\n",
       "      <td>w_1</td>\n",
       "      <td>w_1</td>\n",
       "      <td>2</td>\n",
       "    </tr>\n",
       "    <tr>\n",
       "      <th>3</th>\n",
       "      <td>3231000</td>\n",
       "      <td>8</td>\n",
       "      <td>20</td>\n",
       "      <td>37th 1% subsample</td>\n",
       "      <td>9404</td>\n",
       "      <td>households</td>\n",
       "      <td>urban</td>\n",
       "      <td>716000</td>\n",
       "      <td>0</td>\n",
       "      <td>bulawayo</td>\n",
       "      <td>...</td>\n",
       "      <td>NaN</td>\n",
       "      <td>NaN</td>\n",
       "      <td>NaN</td>\n",
       "      <td></td>\n",
       "      <td>3231000_01</td>\n",
       "      <td>h_3231000_01</td>\n",
       "      <td>w_21</td>\n",
       "      <td>w_1</td>\n",
       "      <td>w_1</td>\n",
       "      <td>3</td>\n",
       "    </tr>\n",
       "    <tr>\n",
       "      <th>4</th>\n",
       "      <td>1544000</td>\n",
       "      <td>6</td>\n",
       "      <td>20</td>\n",
       "      <td>44th 1% subsample</td>\n",
       "      <td>3738</td>\n",
       "      <td>households</td>\n",
       "      <td>urban</td>\n",
       "      <td>716000</td>\n",
       "      <td>0</td>\n",
       "      <td>bulawayo</td>\n",
       "      <td>...</td>\n",
       "      <td>NaN</td>\n",
       "      <td>NaN</td>\n",
       "      <td>NaN</td>\n",
       "      <td></td>\n",
       "      <td>1544000_01</td>\n",
       "      <td>h_1544000_01</td>\n",
       "      <td>w_21</td>\n",
       "      <td>w_1</td>\n",
       "      <td>w_1</td>\n",
       "      <td>4</td>\n",
       "    </tr>\n",
       "    <tr>\n",
       "      <th>...</th>\n",
       "      <td>...</td>\n",
       "      <td>...</td>\n",
       "      <td>...</td>\n",
       "      <td>...</td>\n",
       "      <td>...</td>\n",
       "      <td>...</td>\n",
       "      <td>...</td>\n",
       "      <td>...</td>\n",
       "      <td>...</td>\n",
       "      <td>...</td>\n",
       "      <td>...</td>\n",
       "      <td>...</td>\n",
       "      <td>...</td>\n",
       "      <td>...</td>\n",
       "      <td>...</td>\n",
       "      <td>...</td>\n",
       "      <td>...</td>\n",
       "      <td>...</td>\n",
       "      <td>...</td>\n",
       "      <td>...</td>\n",
       "      <td>...</td>\n",
       "    </tr>\n",
       "    <tr>\n",
       "      <th>654683</th>\n",
       "      <td>107627000</td>\n",
       "      <td>8</td>\n",
       "      <td>20</td>\n",
       "      <td>4th 1% subsample</td>\n",
       "      <td>1741</td>\n",
       "      <td>households</td>\n",
       "      <td>rural</td>\n",
       "      <td>716007</td>\n",
       "      <td>7</td>\n",
       "      <td>midlands</td>\n",
       "      <td>...</td>\n",
       "      <td>NaN</td>\n",
       "      <td>NaN</td>\n",
       "      <td>NaN</td>\n",
       "      <td></td>\n",
       "      <td>107627000_01</td>\n",
       "      <td>h_107627000_01</td>\n",
       "      <td>w_708</td>\n",
       "      <td>w_60</td>\n",
       "      <td>w_60</td>\n",
       "      <td>654683</td>\n",
       "    </tr>\n",
       "    <tr>\n",
       "      <th>654684</th>\n",
       "      <td>112072000</td>\n",
       "      <td>6</td>\n",
       "      <td>20</td>\n",
       "      <td>62nd 1% subsample</td>\n",
       "      <td>2077</td>\n",
       "      <td>households</td>\n",
       "      <td>urban</td>\n",
       "      <td>716007</td>\n",
       "      <td>7</td>\n",
       "      <td>midlands</td>\n",
       "      <td>...</td>\n",
       "      <td>NaN</td>\n",
       "      <td>NaN</td>\n",
       "      <td>NaN</td>\n",
       "      <td></td>\n",
       "      <td>112072000_01</td>\n",
       "      <td>h_112072000_01</td>\n",
       "      <td>w_724</td>\n",
       "      <td>w_60</td>\n",
       "      <td>w_60</td>\n",
       "      <td>654684</td>\n",
       "    </tr>\n",
       "    <tr>\n",
       "      <th>654685</th>\n",
       "      <td>107362000</td>\n",
       "      <td>8</td>\n",
       "      <td>20</td>\n",
       "      <td>5th 1% subsample</td>\n",
       "      <td>13286</td>\n",
       "      <td>households</td>\n",
       "      <td>rural</td>\n",
       "      <td>716007</td>\n",
       "      <td>7</td>\n",
       "      <td>midlands</td>\n",
       "      <td>...</td>\n",
       "      <td>NaN</td>\n",
       "      <td>NaN</td>\n",
       "      <td>NaN</td>\n",
       "      <td></td>\n",
       "      <td>107362000_01</td>\n",
       "      <td>h_107362000_01</td>\n",
       "      <td>w_708</td>\n",
       "      <td>w_60</td>\n",
       "      <td>w_60</td>\n",
       "      <td>654685</td>\n",
       "    </tr>\n",
       "    <tr>\n",
       "      <th>654686</th>\n",
       "      <td>107396000</td>\n",
       "      <td>8</td>\n",
       "      <td>20</td>\n",
       "      <td>79th 1% subsample</td>\n",
       "      <td>4246</td>\n",
       "      <td>households</td>\n",
       "      <td>rural</td>\n",
       "      <td>716007</td>\n",
       "      <td>7</td>\n",
       "      <td>midlands</td>\n",
       "      <td>...</td>\n",
       "      <td>NaN</td>\n",
       "      <td>NaN</td>\n",
       "      <td>NaN</td>\n",
       "      <td></td>\n",
       "      <td>107396000_01</td>\n",
       "      <td>h_107396000_01</td>\n",
       "      <td>w_708</td>\n",
       "      <td>w_60</td>\n",
       "      <td>w_60</td>\n",
       "      <td>654686</td>\n",
       "    </tr>\n",
       "    <tr>\n",
       "      <th>654687</th>\n",
       "      <td>107794000</td>\n",
       "      <td>7</td>\n",
       "      <td>20</td>\n",
       "      <td>28th 1% subsample</td>\n",
       "      <td>2173</td>\n",
       "      <td>households</td>\n",
       "      <td>rural</td>\n",
       "      <td>716007</td>\n",
       "      <td>7</td>\n",
       "      <td>midlands</td>\n",
       "      <td>...</td>\n",
       "      <td>NaN</td>\n",
       "      <td>NaN</td>\n",
       "      <td>NaN</td>\n",
       "      <td></td>\n",
       "      <td>107794000_01</td>\n",
       "      <td>h_107794000_01</td>\n",
       "      <td>w_708</td>\n",
       "      <td>w_60</td>\n",
       "      <td>w_60</td>\n",
       "      <td>654687</td>\n",
       "    </tr>\n",
       "  </tbody>\n",
       "</table>\n",
       "<p>654688 rows × 69 columns</p>\n",
       "</div>"
      ],
      "text/plain": [
       "           serial  persons  hhwt            subsamp  strata          gq  \\\n",
       "0         4908000        4    20  10th 1% subsample   12552  households   \n",
       "1          944000        5    20  44th 1% subsample     893  households   \n",
       "2         5669000        4    20   9th 1% subsample    6838  households   \n",
       "3         3231000        8    20  37th 1% subsample    9404  households   \n",
       "4         1544000        6    20  44th 1% subsample    3738  households   \n",
       "...           ...      ...   ...                ...     ...         ...   \n",
       "654683  107627000        8    20   4th 1% subsample    1741  households   \n",
       "654684  112072000        6    20  62nd 1% subsample    2077  households   \n",
       "654685  107362000        8    20   5th 1% subsample   13286  households   \n",
       "654686  107396000        8    20  79th 1% subsample    4246  households   \n",
       "654687  107794000        7    20  28th 1% subsample    2173  households   \n",
       "\n",
       "        urban  geolev1  Province Province_str  ...  manufacturing_workers  \\\n",
       "0       urban   716000         0     bulawayo  ...                    NaN   \n",
       "1       urban   716000         0     bulawayo  ...                    NaN   \n",
       "2       urban   716000         0     bulawayo  ...                    NaN   \n",
       "3       urban   716000         0     bulawayo  ...                    NaN   \n",
       "4       urban   716000         0     bulawayo  ...                    NaN   \n",
       "...       ...      ...       ...          ...  ...                    ...   \n",
       "654683  rural   716007         7     midlands  ...                    NaN   \n",
       "654684  urban   716007         7     midlands  ...                    NaN   \n",
       "654685  rural   716007         7     midlands  ...                    NaN   \n",
       "654686  rural   716007         7     midlands  ...                    NaN   \n",
       "654687  rural   716007         7     midlands  ...                    NaN   \n",
       "\n",
       "        mining_workers  mining_districts  mining_district_id  serial_expanded  \\\n",
       "0                  NaN               NaN                           4908000_01   \n",
       "1                  NaN               NaN                            944000_01   \n",
       "2                  NaN               NaN                           5669000_01   \n",
       "3                  NaN               NaN                           3231000_01   \n",
       "4                  NaN               NaN                           1544000_01   \n",
       "...                ...               ...                 ...              ...   \n",
       "654683             NaN               NaN                         107627000_01   \n",
       "654684             NaN               NaN                         112072000_01   \n",
       "654685             NaN               NaN                         107362000_01   \n",
       "654686             NaN               NaN                         107396000_01   \n",
       "654687             NaN               NaN                         107794000_01   \n",
       "\n",
       "          household_id  old_district_id  district_id  economic_activity_location_id  \\\n",
       "0         h_4908000_01         w_21      w_1                            w_1   \n",
       "1          h_944000_01         w_21      w_1                            w_1   \n",
       "2         h_5669000_01         w_21      w_1                            w_1   \n",
       "3         h_3231000_01         w_21      w_1                            w_1   \n",
       "4         h_1544000_01         w_21      w_1                            w_1   \n",
       "...                ...          ...      ...                            ...   \n",
       "654683  h_107627000_01        w_708     w_60                           w_60   \n",
       "654684  h_112072000_01        w_724     w_60                           w_60   \n",
       "654685  h_107362000_01        w_708     w_60                           w_60   \n",
       "654686  h_107396000_01        w_708     w_60                           w_60   \n",
       "654687  h_107794000_01        w_708     w_60                           w_60   \n",
       "\n",
       "       person_id  \n",
       "0              0  \n",
       "1              1  \n",
       "2              2  \n",
       "3              3  \n",
       "4              4  \n",
       "...          ...  \n",
       "654683    654683  \n",
       "654684    654684  \n",
       "654685    654685  \n",
       "654686    654686  \n",
       "654687    654687  \n",
       "\n",
       "[654688 rows x 69 columns]"
      ]
     },
     "execution_count": 23,
     "metadata": {},
     "output_type": "execute_result"
    },
    {
     "name": "stdout",
     "output_type": "stream",
     "text": [
      "time: 261 ms\n"
     ]
    }
   ],
   "source": [
    "mining_df"
   ]
  },
  {
   "cell_type": "code",
   "execution_count": null,
   "metadata": {},
   "outputs": [],
   "source": []
  },
  {
   "cell_type": "markdown",
   "metadata": {},
   "source": [
    "# Scratch"
   ]
  },
  {
   "cell_type": "code",
   "execution_count": 32,
   "metadata": {},
   "outputs": [
    {
     "data": {
      "text/plain": [
       "array([   298,    315,    325, ..., 654637, 654654, 654659])"
      ]
     },
     "execution_count": 32,
     "metadata": {},
     "output_type": "execute_result"
    },
    {
     "name": "stdout",
     "output_type": "stream",
     "text": [
      "time: 143 ms\n"
     ]
    }
   ],
   "source": [
    "mining_df[~mining_df['household_id'].str.startswith('h_')]['person_id'].values"
   ]
  },
  {
   "cell_type": "code",
   "execution_count": 43,
   "metadata": {},
   "outputs": [
    {
     "data": {
      "text/plain": [
       "5              5\n",
       "95            95\n",
       "251          251\n",
       "274          274\n",
       "302          302\n",
       "           ...  \n",
       "654084    654084\n",
       "654108    654108\n",
       "654170    654170\n",
       "654335    654335\n",
       "654571    654571\n",
       "Name: person_id, Length: 10471, dtype: int64"
      ]
     },
     "execution_count": 43,
     "metadata": {},
     "output_type": "execute_result"
    },
    {
     "name": "stdout",
     "output_type": "stream",
     "text": [
      "time: 16.8 ms\n"
     ]
    }
   ],
   "source": [
    "mining_df[mining_df.manufacturing_workers.notnull()].person_id"
   ]
  },
  {
   "cell_type": "code",
   "execution_count": 44,
   "metadata": {},
   "outputs": [
    {
     "data": {
      "text/plain": [
       "array([     5,     95,    251, ..., 654170, 654335, 654571])"
      ]
     },
     "execution_count": 44,
     "metadata": {},
     "output_type": "execute_result"
    },
    {
     "name": "stdout",
     "output_type": "stream",
     "text": [
      "time: 16.3 ms\n"
     ]
    }
   ],
   "source": [
    "mining_df[mining_df['manufacturing_workers'].notnull()]['person_id'].values"
   ]
  },
  {
   "cell_type": "code",
   "execution_count": 51,
   "metadata": {},
   "outputs": [
    {
     "data": {
      "text/plain": [
       "(63495,)"
      ]
     },
     "execution_count": 51,
     "metadata": {},
     "output_type": "execute_result"
    },
    {
     "name": "stdout",
     "output_type": "stream",
     "text": [
      "time: 46.2 ms\n"
     ]
    }
   ],
   "source": [
    "mining_df[mining_df['school_id_district'] != '']['person_id'].values"
   ]
  },
  {
   "cell_type": "code",
   "execution_count": 52,
   "metadata": {},
   "outputs": [
    {
     "data": {
      "text/plain": [
       "(654688,)"
      ]
     },
     "execution_count": 52,
     "metadata": {},
     "output_type": "execute_result"
    },
    {
     "name": "stdout",
     "output_type": "stream",
     "text": [
      "time: 2.91 ms\n"
     ]
    }
   ],
   "source": [
    "mining_df['school_id_district'].shape"
   ]
  },
  {
   "cell_type": "code",
   "execution_count": null,
   "metadata": {},
   "outputs": [],
   "source": []
  }
 ],
 "metadata": {
  "kernelspec": {
   "display_name": "covid19_abm",
   "language": "python",
   "name": "covid19_abm"
  },
  "language_info": {
   "codemirror_mode": {
    "name": "ipython",
    "version": 3
   },
   "file_extension": ".py",
   "mimetype": "text/x-python",
   "name": "python",
   "nbconvert_exporter": "python",
   "pygments_lexer": "ipython3",
   "version": "3.7.9"
  }
 },
 "nbformat": 4,
 "nbformat_minor": 4
}
